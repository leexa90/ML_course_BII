{
 "cells": [
  {
   "cell_type": "markdown",
   "metadata": {
    "colab_type": "text",
    "deletable": true,
    "editable": true,
    "id": "-9FxtlvHGTTw"
   },
   "source": [
    "# Survival Analysis :  Quick Implementation"
   ]
  },
  {
   "cell_type": "code",
   "execution_count": null,
   "metadata": {
    "colab": {
     "base_uri": "https://localhost:8080/",
     "height": 402
    },
    "colab_type": "code",
    "collapsed": false,
    "deletable": true,
    "editable": true,
    "id": "51NENvUvGTT4",
    "outputId": "a8ae8309-0fc0-4dc1-bf41-669371b6ac60"
   },
   "outputs": [],
   "source": [
    "#install import stuff, you need to login and give google permissions twice\n",
    "!echo {vcode} | google-drive-ocamlfuse -headless -id={creds.client_id} -secret={creds.client_secret}\n",
    "!pip install lifelines"
   ]
  },
  {
   "cell_type": "code",
   "execution_count": null,
   "metadata": {
    "colab": {
     "base_uri": "https://localhost:8080/",
     "height": 124
    },
    "colab_type": "code",
    "collapsed": false,
    "deletable": true,
    "editable": true,
    "id": "EuoIadJ0GTUH",
    "outputId": "802171b8-4cab-402f-ca79-97f82ce5cb01"
   },
   "outputs": [],
   "source": [
    "# Load the Drive helper and mount\n",
    "from google.colab import drive\n",
    "\n",
    "# This will prompt for authorization.\n",
    "drive.mount('/content/drive')"
   ]
  },
  {
   "cell_type": "code",
   "execution_count": null,
   "metadata": {
    "colab": {
     "base_uri": "https://localhost:8080/",
     "height": 52
    },
    "colab_type": "code",
    "collapsed": false,
    "deletable": true,
    "editable": true,
    "id": "2VhLwkF5RJsH",
    "outputId": "be0cc120-65e7-47b7-abc1-576abc98db71"
   },
   "outputs": [],
   "source": [
    "#mount google drive\n",
    "%cd\n",
    "!mkdir -p drive\n",
    "!google-drive-ocamlfuse drive"
   ]
  },
  {
   "cell_type": "code",
   "execution_count": null,
   "metadata": {
    "colab": {
     "base_uri": "https://localhost:8080/",
     "height": 1000
    },
    "colab_type": "code",
    "collapsed": false,
    "deletable": true,
    "editable": true,
    "id": "OstZc6gqGTUQ",
    "outputId": "6691c451-71d5-4c52-9a6d-1e9e455696be"
   },
   "outputs": [],
   "source": [
    "#navigating your google drive and saving files inside.\n",
    "%cd\n",
    "%ls\n",
    "%cd drive/\n",
    "%mkdir ML_course_BII\n",
    "#download model parameters\n",
    "%ls -lh */\n",
    "%ls -lh\n",
    "%cd ML_course_BII\n",
    "!wget https://www.dropbox.com/s/w001nnym90esujf/Customer_churn.zip?dl=0 -O Customer_churn.zip\n",
    "!unzip Customer_churn.zip\n",
    "%cd Customer_churn\n",
    "%ls -lh\n"
   ]
  },
  {
   "cell_type": "code",
   "execution_count": 2,
   "metadata": {
    "colab": {
     "base_uri": "https://localhost:8080/",
     "height": 34
    },
    "colab_type": "code",
    "collapsed": false,
    "deletable": true,
    "editable": true,
    "id": "BOwPmnlMGTUc",
    "outputId": "b95533b4-9a59-41c0-bcc9-7c825d8aaf43"
   },
   "outputs": [
    {
     "name": "stdout",
     "output_type": "stream",
     "text": [
      "Populating the interactive namespace from numpy and matplotlib\n"
     ]
    }
   ],
   "source": [
    "import pandas as pd\n",
    "import numpy as np\n",
    "import matplotlib.pyplot as plt\n",
    "import seaborn as sb\n",
    "pd.set_option('display.max_columns',60)\n",
    "pd.set_option('display.max_rows', 60)\n",
    "%pylab inline\n",
    "figsize(12,6)"
   ]
  },
  {
   "cell_type": "markdown",
   "metadata": {
    "colab_type": "text",
    "deletable": true,
    "editable": true,
    "id": "Ux6YZATOGTVD"
   },
   "source": [
    "### We will be using Telco Customer Churn data from IBM Watson Analytics\n",
    "https://www.ibm.com/communities/analytics/watson-analytics-blog/Telco-Customer-Churn/"
   ]
  },
  {
   "cell_type": "code",
   "execution_count": 3,
   "metadata": {
    "colab": {},
    "colab_type": "code",
    "collapsed": false,
    "deletable": true,
    "editable": true,
    "id": "ip93GM5ZGTVI"
   },
   "outputs": [],
   "source": [
    "##  create a dataframe\n",
    "df = pd.read_excel(\"./WA_Fn-UseC_-Telco-Customer-Churn.xlsx\") "
   ]
  },
  {
   "cell_type": "code",
   "execution_count": null,
   "metadata": {
    "colab": {
     "base_uri": "https://localhost:8080/",
     "height": 54
    },
    "colab_type": "code",
    "collapsed": false,
    "deletable": true,
    "editable": true,
    "id": "dMNHKeAEQVEG",
    "outputId": "bd7391d7-3bc8-448b-9e7c-ddc37010d946"
   },
   "outputs": [],
   "source": [
    "'''data description\n",
    "\n",
    "Customers who left within the last month – the column is called Churn\n",
    "\n",
    "Services that each customer has signed up for – phone, multiple lines, internet, \n",
    "online security, online backup, device protection, tech support, and streaming TV and movies\n",
    "\n",
    "Customer account information – how long they’ve been a customer, contract, payment method, \n",
    "paperless billing, monthly charges, and total charges\n",
    "\n",
    "Demographic info about customers – gender, age range, and if they have partners and dependents\n",
    "\n",
    "'''"
   ]
  },
  {
   "cell_type": "code",
   "execution_count": null,
   "metadata": {
    "colab": {
     "base_uri": "https://localhost:8080/",
     "height": 313
    },
    "colab_type": "code",
    "collapsed": false,
    "deletable": true,
    "editable": true,
    "id": "PTf3iUZRGTVS",
    "outputId": "48195376-3541-4282-ca15-056ac5c32081"
   },
   "outputs": [],
   "source": [
    "## Have a first look at the data\n",
    "df.head()"
   ]
  },
  {
   "cell_type": "code",
   "execution_count": null,
   "metadata": {
    "collapsed": true,
    "deletable": true,
    "editable": true
   },
   "outputs": [],
   "source": []
  },
  {
   "cell_type": "code",
   "execution_count": 5,
   "metadata": {
    "colab": {
     "base_uri": "https://localhost:8080/",
     "height": 121
    },
    "colab_type": "code",
    "collapsed": false,
    "deletable": true,
    "editable": true,
    "id": "eJS7JKQjQVEY",
    "outputId": "1c12719e-dab0-4512-acd6-84c82e91a2b1"
   },
   "outputs": [
    {
     "data": {
      "text/plain": [
       "Index([u'customerID', u'gender', u'SeniorCitizen', u'Partner', u'Dependents',\n",
       "       u'tenure', u'PhoneService', u'MultipleLines', u'InternetService',\n",
       "       u'OnlineSecurity', u'OnlineBackup', u'DeviceProtection', u'TechSupport',\n",
       "       u'StreamingTV', u'StreamingMovies', u'Contract', u'PaperlessBilling',\n",
       "       u'PaymentMethod', u'MonthlyCharges', u'TotalCharges', u'Churn'],\n",
       "      dtype='object')"
      ]
     },
     "execution_count": 5,
     "metadata": {},
     "output_type": "execute_result"
    }
   ],
   "source": [
    "#get all columns\n",
    "df.keys()"
   ]
  },
  {
   "cell_type": "code",
   "execution_count": null,
   "metadata": {
    "colab": {
     "base_uri": "https://localhost:8080/",
     "height": 312
    },
    "colab_type": "code",
    "collapsed": false,
    "deletable": true,
    "editable": true,
    "id": "b53oIIH1QVEe",
    "outputId": "45a024d6-0f60-4158-acd2-1ef32648621b"
   },
   "outputs": [],
   "source": [
    "#view churn column , row 2 - 17 #python index starts from 0\n",
    "df['Churn'].iloc[1:17]"
   ]
  },
  {
   "cell_type": "code",
   "execution_count": null,
   "metadata": {
    "colab": {
     "base_uri": "https://localhost:8080/",
     "height": 34
    },
    "colab_type": "code",
    "collapsed": false,
    "deletable": true,
    "editable": true,
    "id": "an7Hd_uAQVEn",
    "outputId": "6bb4f0a2-7c60-4e97-a870-fa26d89beccc"
   },
   "outputs": [],
   "source": [
    "#percentage of churn customers\n",
    "np.mean(df['Churn']=='Yes')"
   ]
  },
  {
   "cell_type": "code",
   "execution_count": null,
   "metadata": {
    "colab": {
     "base_uri": "https://localhost:8080/",
     "height": 34
    },
    "colab_type": "code",
    "collapsed": false,
    "deletable": true,
    "editable": true,
    "id": "D0f-lrQ7QVEy",
    "outputId": "5dff9472-8408-4b9d-d783-c239e5fda536"
   },
   "outputs": [],
   "source": [
    "# unique entries of tech support\n",
    "pd.unique(df['TechSupport'])"
   ]
  },
  {
   "cell_type": "code",
   "execution_count": null,
   "metadata": {
    "colab": {
     "base_uri": "https://localhost:8080/",
     "height": 1000
    },
    "colab_type": "code",
    "collapsed": false,
    "deletable": true,
    "editable": true,
    "id": "JcfVnuDPQVE5",
    "outputId": "e2e54560-05c3-465a-a3d3-c9b6f24912b5"
   },
   "outputs": [],
   "source": [
    "# access churn column from those who are on Tech support\n",
    "df[df['TechSupport']=='Yes']"
   ]
  },
  {
   "cell_type": "code",
   "execution_count": 3,
   "metadata": {
    "colab": {},
    "colab_type": "code",
    "collapsed": false,
    "deletable": true,
    "editable": true,
    "id": "JNBze7xbGTVt"
   },
   "outputs": [],
   "source": [
    "## Convert TotalCharges to numeric\n",
    "df['TotalCharges']=pd.to_numeric(df['TotalCharges'],errors='coerce')\n",
    "\n",
    "## Replace yes and No in the Churn column to 1 and 0. 1 for the event and 0 for the censured data.\n",
    "df['Churn']=(df['Churn']=='Yes')*1"
   ]
  },
  {
   "cell_type": "code",
   "execution_count": null,
   "metadata": {
    "collapsed": false,
    "deletable": true,
    "editable": true
   },
   "outputs": [],
   "source": [
    "pd.plotting.scatter_matrix(df)\n",
    "plt.show()"
   ]
  },
  {
   "cell_type": "code",
   "execution_count": null,
   "metadata": {
    "collapsed": false,
    "deletable": true,
    "editable": true
   },
   "outputs": [],
   "source": [
    "plt.subplots(1,1,figsize=(4,4))\n",
    "plt.title('Contract Type',fontsize=12,fontweight='bold')\n",
    "plt.plot(df.groupby('Contract')['Churn'].apply(lambda x : np.sum(x==1)),color='red',label='1',marker='o')\n",
    "plt.plot(df.groupby('Contract')['Churn'].apply(lambda x : np.sum(x==0)),color='blue',label='0',marker='o')\n",
    "plt.ylabel('Count',fontsize=12,fontweight='bold')\n",
    "plt.xlabel('Contract Type',fontsize=12,fontweight='bold')\n",
    "plt.legend()\n",
    "plt.tight_layout()\n",
    "plt.savefig('Month.png',dpi=300)"
   ]
  },
  {
   "cell_type": "code",
   "execution_count": null,
   "metadata": {
    "collapsed": false,
    "deletable": true,
    "editable": true
   },
   "outputs": [],
   "source": [
    "plt.subplots(1,1,figsize=(4,4))\n",
    "plt.title('Inernet Service',fontsize=12,fontweight='bold')\n",
    "plt.plot(df.groupby('InternetService')['Churn'].apply(lambda x : np.sum(x==1)),color='red',label='1',marker='o')\n",
    "plt.plot(df.groupby('InternetService')['Churn'].apply(lambda x : np.sum(x==0)),color='blue',label='0',marker='o')\n",
    "plt.ylabel('Count',fontsize=12,fontweight='bold')\n",
    "plt.xlabel('InternetService Type',fontsize=12,fontweight='bold')\n",
    "plt.tight_layout()\n",
    "plt.ylim([0,2000])\n",
    "plt.savefig('InternetService.png',dpi=300)"
   ]
  },
  {
   "cell_type": "code",
   "execution_count": null,
   "metadata": {
    "collapsed": false,
    "deletable": true,
    "editable": true
   },
   "outputs": [],
   "source": [
    "df.groupby(['Churn','InternetService']).apply(len)"
   ]
  },
  {
   "cell_type": "code",
   "execution_count": null,
   "metadata": {
    "collapsed": false,
    "deletable": true,
    "editable": true
   },
   "outputs": [],
   "source": [
    "1297./(459+113+1297)"
   ]
  },
  {
   "cell_type": "code",
   "execution_count": null,
   "metadata": {
    "collapsed": false,
    "deletable": true,
    "editable": true
   },
   "outputs": [],
   "source": [
    "print (df.groupby(['Churn','Contract']).apply(len))\n",
    "1655./(459+113+1297)"
   ]
  },
  {
   "cell_type": "code",
   "execution_count": null,
   "metadata": {
    "collapsed": true,
    "deletable": true,
    "editable": true
   },
   "outputs": [],
   "source": [
    "churn = df[df['Churn']==1]\n",
    "nochurn = df[df['Churn']==0]"
   ]
  },
  {
   "cell_type": "code",
   "execution_count": null,
   "metadata": {
    "collapsed": false,
    "deletable": true,
    "editable": true
   },
   "outputs": [],
   "source": [
    "plt.subplots(1,1,figsize=(4,4))\n",
    "plt.title('MonthlyCharges',fontsize=12,fontweight='bold')\n",
    "plt.boxplot([churn['MonthlyCharges'],nochurn['MonthlyCharges']])\n",
    "plt.xticks([1,2],['Churn','No Churn'],fontsize=12,fontweight='bold')\n",
    "plt.ylabel('MonthlyCharges',fontsize=12,fontweight='bold')\n",
    "\n",
    "plt.savefig('./MonthlyCharges.png',dpi=300)\n",
    "plt.show()"
   ]
  },
  {
   "cell_type": "code",
   "execution_count": null,
   "metadata": {
    "collapsed": false,
    "deletable": true,
    "editable": true
   },
   "outputs": [],
   "source": [
    "plt.subplots(1,1,figsize=(4,4))\n",
    "plt.title('Tenure',fontsize=12,fontweight='bold')\n",
    "plt.boxplot([churn['tenure'],nochurn['tenure']])\n",
    "plt.xticks([1,2],['Churn','No Churn'],fontsize=12,fontweight='bold')\n",
    "plt.ylabel('tenure length',fontsize=12,fontweight='bold')\n",
    "\n",
    "plt.savefig('./Tenure.png',dpi=300)\n",
    "plt.show()"
   ]
  },
  {
   "cell_type": "code",
   "execution_count": null,
   "metadata": {
    "colab": {
     "base_uri": "https://localhost:8080/",
     "height": 1000
    },
    "colab_type": "code",
    "collapsed": false,
    "deletable": true,
    "editable": true,
    "id": "oilepwf0QVFG",
    "outputId": "91378c1c-1cb1-44a3-982d-9f1738bed2f3"
   },
   "outputs": [],
   "source": [
    "\n",
    "for i in pd.unique(df['Contract']):\n",
    "    print ('type of contract:',i)\n",
    "    plt.hist(df[df['Contract']==i]['Churn'],density=True,bins=(0,1,2))\n",
    "    plt.xticks([0.5,1.5],labels=[0,1])\n",
    "    plt.xlabel('churn ==1, no churn ==0')\n",
    "    plt.ylabel('normazlied prob density')\n",
    "    plt.title(i)\n",
    "    plt.show()"
   ]
  },
  {
   "cell_type": "code",
   "execution_count": null,
   "metadata": {
    "colab": {
     "base_uri": "https://localhost:8080/",
     "height": 469
    },
    "colab_type": "code",
    "collapsed": false,
    "deletable": true,
    "editable": true,
    "id": "UdE7ZxVZQVFM",
    "outputId": "4d2021dd-4d13-4ef8-bd72-d4a0e36a1b6b"
   },
   "outputs": [],
   "source": [
    "#checking column for missing entries\n",
    "df.info()"
   ]
  },
  {
   "cell_type": "code",
   "execution_count": null,
   "metadata": {
    "colab": {
     "base_uri": "https://localhost:8080/",
     "height": 588
    },
    "colab_type": "code",
    "collapsed": false,
    "deletable": true,
    "editable": true,
    "id": "trAL038LQVFV",
    "outputId": "d544d74e-6e8e-4d65-a535-41dd04c0adac"
   },
   "outputs": [],
   "source": [
    "#customers with missing values, fill in with median\n",
    "df[df['TotalCharges'].isnull()]"
   ]
  },
  {
   "cell_type": "code",
   "execution_count": null,
   "metadata": {
    "colab": {},
    "colab_type": "code",
    "collapsed": false,
    "deletable": true,
    "editable": true,
    "id": "TKBF9Q4_GTV6"
   },
   "outputs": [],
   "source": [
    "## Impute the null value with the median value\n",
    "df.TotalCharges.fillna(value=df['TotalCharges'].median(),inplace=True)"
   ]
  },
  {
   "cell_type": "code",
   "execution_count": null,
   "metadata": {
    "colab": {},
    "colab_type": "code",
    "collapsed": true,
    "deletable": true,
    "editable": true,
    "id": "wBnxqBmfGTWB"
   },
   "outputs": [],
   "source": [
    "## Create a list of Categorical Columns\n",
    "cat_cols= [i  for i in df.columns if df[i].dtype==object]\n",
    "cat_cols.remove('customerID')  ## customerID has been removed because it is unique for all the rows."
   ]
  },
  {
   "cell_type": "code",
   "execution_count": null,
   "metadata": {
    "colab": {
     "base_uri": "https://localhost:8080/",
     "height": 1000
    },
    "colab_type": "code",
    "collapsed": false,
    "deletable": true,
    "editable": true,
    "id": "qF3aVs-LGTWI",
    "outputId": "b86135a0-8713-4449-d681-46cb756ea921"
   },
   "outputs": [],
   "source": [
    "## lets have a look at the categories and their distribution in all the categorical columns.\n",
    "\n",
    "for i in cat_cols:\n",
    "    print('Column Name: ',i)\n",
    "    print(df[i].value_counts())\n",
    "    print('-----------------------------')"
   ]
  },
  {
   "cell_type": "code",
   "execution_count": null,
   "metadata": {
    "colab": {
     "base_uri": "https://localhost:8080/",
     "height": 121
    },
    "colab_type": "code",
    "collapsed": false,
    "deletable": true,
    "editable": true,
    "id": "rTDjqdNPQVF6",
    "outputId": "1e41930d-4363-4036-ff55-8653a71d62f8"
   },
   "outputs": [],
   "source": [
    "print ('all variables:',df.keys())\n",
    "variables = ['gender', 'SeniorCitizen', 'Partner', 'Dependents',\n",
    "       'tenure', 'PhoneService', 'MultipleLines', 'InternetService',\n",
    "       'OnlineSecurity', 'OnlineBackup', 'DeviceProtection', 'TechSupport',\n",
    "       'StreamingTV', 'StreamingMovies', 'Contract', 'PaperlessBilling',\n",
    "       'PaymentMethod', 'MonthlyCharges', 'TotalCharges']"
   ]
  },
  {
   "cell_type": "code",
   "execution_count": null,
   "metadata": {
    "colab": {},
    "colab_type": "code",
    "collapsed": true,
    "deletable": true,
    "editable": true,
    "id": "zbR0coZ0QVGB"
   },
   "outputs": [],
   "source": [
    "df_processed = pd.get_dummies(df[variables])"
   ]
  },
  {
   "cell_type": "code",
   "execution_count": null,
   "metadata": {
    "colab": {
     "base_uri": "https://localhost:8080/",
     "height": 261
    },
    "colab_type": "code",
    "collapsed": false,
    "deletable": true,
    "editable": true,
    "id": "VlkviSEPSWCp",
    "outputId": "bde1fb36-7d32-4a1d-b21a-4dfa8bb3be1a"
   },
   "outputs": [],
   "source": [
    "df_processed.head()"
   ]
  },
  {
   "cell_type": "code",
   "execution_count": null,
   "metadata": {
    "colab": {},
    "colab_type": "code",
    "collapsed": true,
    "deletable": true,
    "editable": true,
    "id": "Eco-11u5QVGN"
   },
   "outputs": [],
   "source": [
    "from sklearn import tree\n",
    "import sklearn\n",
    "from sklearn.model_selection import train_test_split\n",
    "from sklearn import metrics\n",
    "X = pd.get_dummies(df_processed,drop_first=False) #explanatory variables\n",
    "y = df['Churn'] #variable to predict\n",
    "\n",
    "X_train, X_test, y_train, y_test = train_test_split(     \n",
    "                            X, y, test_size=0.2, random_state=2)\n",
    "\n",
    "\n",
    "#define descision tree\n",
    "clf = tree.DecisionTreeClassifier(max_depth=2,criterion='entropy',min_samples_leaf=25)\n",
    "\n",
    "# train model\n",
    "clf = clf.fit(X_train, y_train)\n"
   ]
  },
  {
   "cell_type": "code",
   "execution_count": null,
   "metadata": {
    "colab": {
     "base_uri": "https://localhost:8080/",
     "height": 104
    },
    "colab_type": "code",
    "collapsed": false,
    "deletable": true,
    "editable": true,
    "id": "C0HYpEUKStgn",
    "outputId": "3bb4e1de-1b29-415b-dcb2-c8b5afb5f43e"
   },
   "outputs": [],
   "source": [
    "# getting predictions, (each row gives negative and positive class probabilities)\n",
    "clf.predict_proba(X_test)[:5]"
   ]
  },
  {
   "cell_type": "code",
   "execution_count": null,
   "metadata": {
    "colab": {
     "base_uri": "https://localhost:8080/",
     "height": 34
    },
    "colab_type": "code",
    "collapsed": false,
    "deletable": true,
    "editable": true,
    "id": "logPE7KOSnv4",
    "outputId": "bf07f0a1-963b-4e5e-c10a-09fe2b667fc1"
   },
   "outputs": [],
   "source": [
    "# get predictions and performance \n",
    "y_test_pred = clf.predict_proba(X_test)[:,1]\n",
    "y_train_pred = clf.predict_proba(X_train)[:,1]\n",
    "print ('train,test roc:',metrics.roc_auc_score(y_train,y_train_pred),metrics.roc_auc_score(y_test,y_test_pred))"
   ]
  },
  {
   "cell_type": "code",
   "execution_count": null,
   "metadata": {
    "colab": {
     "base_uri": "https://localhost:8080/",
     "height": 392
    },
    "colab_type": "code",
    "collapsed": false,
    "deletable": true,
    "editable": true,
    "id": "yb1BdX0WSp2H",
    "outputId": "de3fc7c1-8e58-4d9c-dcd5-4f6e25151242"
   },
   "outputs": [],
   "source": [
    "#print ROC curve\n",
    "fpr, tpr, thresholds  = metrics.roc_curve(y_train,y_train_pred)\n",
    "plt.plot([0,1],[0,1],'r--',label='Chance')\n",
    "plt.plot(fpr,tpr,'b',label='Train results')\n",
    "fpr, tpr, thresholds  = metrics.roc_curve(y_test,y_test_pred)\n",
    "plt.plot(fpr,tpr,'g',label='Test results')\n",
    "\n",
    "plt.xlabel('True positive rate')\n",
    "plt.ylabel('False positive rate')\n",
    "plt.legend()\n",
    "plt.show()"
   ]
  },
  {
   "cell_type": "code",
   "execution_count": null,
   "metadata": {
    "colab": {
     "base_uri": "https://localhost:8080/",
     "height": 439
    },
    "colab_type": "code",
    "collapsed": false,
    "deletable": true,
    "editable": true,
    "id": "4X_hXdZLQVGR",
    "outputId": "eb562b66-4152-4f2b-90b4-08634b6e1b3e"
   },
   "outputs": [],
   "source": [
    "import graphviz \n",
    "import pydot\n",
    "\n",
    "dot_data = tree.export_graphviz(clf, out_file=None, \n",
    "                                feature_names=X.keys(),  \n",
    "                      class_names=\"Survived\",  \n",
    "                      filled=True, rounded=True,  \n",
    "                      special_characters=True)  \n",
    "graph = graphviz.Source(dot_data)  \n",
    "graph.render(\"Churn\",format='png') \n",
    "graph"
   ]
  },
  {
   "cell_type": "code",
   "execution_count": null,
   "metadata": {
    "colab": {
     "base_uri": "https://localhost:8080/",
     "height": 889
    },
    "colab_type": "code",
    "collapsed": false,
    "deletable": true,
    "editable": true,
    "id": "0YKug4dEQVGa",
    "outputId": "1af01846-9547-4da3-e813-9c4f0088f360"
   },
   "outputs": [],
   "source": [
    "fig,ax = plt.subplots(1,1,figsize=(20,20))\n",
    "plt.imshow(plt.imread('./Explain.png'))\n",
    "plt.show()"
   ]
  },
  {
   "cell_type": "code",
   "execution_count": null,
   "metadata": {
    "colab": {
     "base_uri": "https://localhost:8080/",
     "height": 409
    },
    "colab_type": "code",
    "collapsed": false,
    "deletable": true,
    "editable": true,
    "id": "SCDWbCzlQVGe",
    "outputId": "35020c7e-23e5-4a01-c543-8dabdf807acc"
   },
   "outputs": [],
   "source": [
    "#making a more complicated model\n",
    "clf = tree.DecisionTreeClassifier(max_depth=4,criterion='entropy',min_samples_leaf=25)\n",
    "clf = clf.fit(X_train, y_train)\n",
    "y_test_pred = clf.predict_proba(X_test)[:,1]\n",
    "y_train_pred = clf.predict_proba(X_train)[:,1]\n",
    "print ('train,test roc:',metrics.roc_auc_score(y_train,y_train_pred),metrics.roc_auc_score(y_test,y_test_pred))\n",
    "fpr, tpr, thresholds  = metrics.roc_curve(y_train,y_train_pred)\n",
    "plt.plot([0,1],[0,1],'r--',label='Chance')\n",
    "plt.plot(fpr,tpr,'b',label='Train results')\n",
    "fpr, tpr, thresholds  = metrics.roc_curve(y_test,y_test_pred)\n",
    "plt.plot(fpr,tpr,'g',label='Test results')\n",
    "\n",
    "plt.xlabel('True positive rate')\n",
    "plt.ylabel('False positive rate')\n",
    "plt.legend()\n",
    "plt.show()"
   ]
  },
  {
   "cell_type": "code",
   "execution_count": null,
   "metadata": {
    "colab": {
     "base_uri": "https://localhost:8080/",
     "height": 777
    },
    "colab_type": "code",
    "collapsed": false,
    "deletable": true,
    "editable": true,
    "id": "ZuHfA7niQVGi",
    "outputId": "36b2562c-3907-4b6e-a8e5-a464f99754fc"
   },
   "outputs": [],
   "source": [
    "import graphviz \n",
    "import pydot\n",
    "\n",
    "dot_data = tree.export_graphviz(clf, out_file=None, \n",
    "                                feature_names=X.keys(),  \n",
    "                      class_names=\"Survived\",  \n",
    "                      filled=True, rounded=True,  \n",
    "                      special_characters=True)  \n",
    "graph = graphviz.Source(dot_data)  \n",
    "graph.render(\"Churn\",format='png') \n",
    "graph"
   ]
  },
  {
   "cell_type": "markdown",
   "metadata": {
    "colab_type": "text",
    "deletable": true,
    "editable": true,
    "id": "hOJBi9PrQVGq"
   },
   "source": [
    "# Stradegies to reduce churn"
   ]
  },
  {
   "cell_type": "code",
   "execution_count": null,
   "metadata": {
    "colab": {
     "base_uri": "https://localhost:8080/",
     "height": 889
    },
    "colab_type": "code",
    "collapsed": false,
    "deletable": true,
    "editable": true,
    "id": "6d-Hp9IAUk1f",
    "outputId": "d1892a14-4431-468c-efb1-e3dc3f68235a"
   },
   "outputs": [],
   "source": [
    "fig,ax = plt.subplots(1,1,figsize=(20,20))\n",
    "plt.imshow(plt.imread('./Recommendation1.png'))\n",
    "plt.show()"
   ]
  },
  {
   "cell_type": "code",
   "execution_count": 13,
   "metadata": {
    "collapsed": false
   },
   "outputs": [
    {
     "data": {
      "text/plain": [
       "array([u'DSL', u'Fiber optic', u'No'], dtype=object)"
      ]
     },
     "execution_count": 13,
     "metadata": {},
     "output_type": "execute_result"
    }
   ],
   "source": [
    "pd.unique(df['InternetService'])"
   ]
  },
  {
   "cell_type": "code",
   "execution_count": 16,
   "metadata": {
    "collapsed": false
   },
   "outputs": [
    {
     "name": "stdout",
     "output_type": "stream",
     "text": [
      "InternetService  Contract      \n",
      "DSL              Month-to-month     50.219501\n",
      "                 One year           61.396754\n",
      "                 Two year           70.462978\n",
      "Fiber optic      Month-to-month     87.021194\n",
      "                 One year           98.779499\n",
      "                 Two year          104.571445\n",
      "No               Month-to-month     20.409542\n",
      "                 One year           20.819505\n",
      "                 Two year           21.777351\n",
      "Name: MonthlyCharges, dtype: float64\n"
     ]
    },
    {
     "data": {
      "image/png": "[encoded data removed]",
      "text/plain": [
       "<Figure size 720x216 with 3 Axes>"
      ]
     },
     "metadata": {},
     "output_type": "display_data"
    }
   ],
   "source": [
    "print (df.groupby(['InternetService','Contract'])['MonthlyCharges'].apply(np.mean)\n",
    "fig,ax = plt.subplots(1,3,figsize=(10,3))\n",
    "for i in ['DSL','Fiber optic','No']:\n",
    "    ax[0].plot(df[df['InternetService']==i].groupby('Contract')['MonthlyCharges'].apply(np.mean))"
   ]
  },
  {
   "cell_type": "code",
   "execution_count": null,
   "metadata": {
    "colab": {
     "base_uri": "https://localhost:8080/",
     "height": 889
    },
    "colab_type": "code",
    "collapsed": false,
    "deletable": true,
    "editable": true,
    "id": "m3sYue3MUpyh",
    "outputId": "7696237b-c70c-4612-c9a4-6efa1e10594e"
   },
   "outputs": [],
   "source": [
    "fig,ax = plt.subplots(1,1,figsize=(20,20))\n",
    "plt.imshow(plt.imread('./Recommendation2.png'))\n",
    "plt.show()"
   ]
  },
  {
   "cell_type": "code",
   "execution_count": null,
   "metadata": {
    "colab": {
     "base_uri": "https://localhost:8080/",
     "height": 889
    },
    "colab_type": "code",
    "collapsed": false,
    "deletable": true,
    "editable": true,
    "id": "dmTtXysxUp4g",
    "outputId": "7df791ad-4e8f-429a-bace-3ad9fdb799c2"
   },
   "outputs": [],
   "source": [
    "fig,ax = plt.subplots(1,1,figsize=(20,20))\n",
    "plt.imshow(plt.imread('./Recommendation3.png'))\n",
    "plt.show()"
   ]
  },
  {
   "cell_type": "markdown",
   "metadata": {
    "deletable": true,
    "editable": true
   },
   "source": [
    "# Conclusions\n",
    "Customers who sign for 2 year plans least likely to churn and also bring in more revenue\n",
    "\n",
    "Highest churn rate are for customers who use fiber optics internet, they are likely disloyal customers and it may be difficult to get them to be loyal.\n",
    "\n",
    "For 1-2year contract DSL customers, it seems that tech support may decrease their churn rate. Could offer to them free.\n"
   ]
  }
 ],
 "metadata": {
  "colab": {
   "name": "Survival_analysis.ipynb",
   "provenance": []
  },
  "kernelspec": {
   "display_name": "Python 2",
   "language": "python",
   "name": "python2"
  },
  "language_info": {
   "codemirror_mode": {
    "name": "ipython",
    "version": 2
   },
   "file_extension": ".py",
   "mimetype": "text/x-python",
   "name": "python",
   "nbconvert_exporter": "python",
   "pygments_lexer": "ipython2",
   "version": "2.7.12"
  }
 },
 "nbformat": 4,
 "nbformat_minor": 1
}
